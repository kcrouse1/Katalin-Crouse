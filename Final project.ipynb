{
 "cells": [
  {
   "cell_type": "markdown",
   "metadata": {},
   "source": [
    "# Are You Really A Good Roommate? Let's Find Out! \n",
    "### By Katalin Crouse\n",
    "\n",
    "This an easy and simple quiz that will simply answer the question, are you a good roommate?. If you're unsure about where you lie on the this spectrum or if you're trying to drop hints to your roommates, just take the quiz or have them take it! \n",
    "Just follow the instructions and in the end we'll tally your total for you to deliver the answer!"
   ]
  },
  {
   "cell_type": "code",
   "execution_count": null,
   "metadata": {},
   "outputs": [],
   "source": [
    "from quiz import *"
   ]
  },
  {
   "cell_type": "code",
   "execution_count": null,
   "metadata": {},
   "outputs": [],
   "source": [
    "print(\"For every question you answer Yes enter a. For every question you answer No enter b.\")\n",
    "choices = []\n",
    "choices.append(question1())\n",
    "choices.append(question2())\n",
    "choices.append(question3())\n",
    "choices.append(question4())\n",
    "choices.append(question5())\n",
    "choices.append(question6())\n",
    "choices.append(question7())\n",
    "choices.append(question8())"
   ]
  },
  {
   "cell_type": "code",
   "execution_count": null,
   "metadata": {},
   "outputs": [],
   "source": [
    "counter = 0\n",
    "for choice in choices:\n",
    "    if choice == 'a':\n",
    "        counter += 1\n",
    "if counter >= 5:\n",
    "    print('Congrats! You\\'re really out here! Your roommates must love you!')\n",
    "elif counter <= 3:\n",
    "    print('Honey, pick up the slack. It\\'s really not that hard.')\n",
    "else:\n",
    "    print('Doll, just pick a damn side. Either you\\'re a slacker or an overachiever, just choose.')"
   ]
  },
  {
   "cell_type": "code",
   "execution_count": null,
   "metadata": {},
   "outputs": [],
   "source": [
    "for choice in choices:\n",
    "    if choice != 'a' and choice != 'b':\n",
    "        assert False\n",
    "        \n",
    "assert len(choices) == 8\n",
    "\n",
    "assert 0 <= counter <= 8"
   ]
  },
  {
   "cell_type": "code",
   "execution_count": null,
   "metadata": {},
   "outputs": [],
   "source": []
  }
 ],
 "metadata": {
  "kernelspec": {
   "display_name": "Python 3",
   "language": "python",
   "name": "python3"
  },
  "language_info": {
   "codemirror_mode": {
    "name": "ipython",
    "version": 3
   },
   "file_extension": ".py",
   "mimetype": "text/x-python",
   "name": "python",
   "nbconvert_exporter": "python",
   "pygments_lexer": "ipython3",
   "version": "3.6.7"
  }
 },
 "nbformat": 4,
 "nbformat_minor": 2
}
